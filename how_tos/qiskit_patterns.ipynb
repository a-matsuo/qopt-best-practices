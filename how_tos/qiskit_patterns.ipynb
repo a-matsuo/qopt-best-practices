{
 "cells": [
  {
   "cell_type": "markdown",
   "id": "bc51e7bf-e582-49ba-93f8-035624d56ccf",
   "metadata": {},
   "source": [
    "# Qiskit Patterns\n",
    "\n",
    "In this how-to we will learn about Qiskit patterns and quantum approximate optimization. Qiskit Patterns are a workflow to execute a task on a Quantum computer. They comprise four steps\n",
    "\n",
    "1. Map the classical inputs to a quantum problem\n",
    "2. Optimize problem for quantum execution\n",
    "3. Execute using Qiskit Runtime primitives\n",
    "4. Post-process, return result in classical format\n",
    "\n",
    "In Step 1. we will take a combinatorial optimization problem and formulate it in terms of finding the ground state of an Ising Hamiltonian. This reformulated prblem can be understood by a quantum computer. In Step 2. we will prepare the quantum circuits to execute on the quantum computer.\n",
    "In Step 3. we will call the `Sampler` primitive in Qiskit to draw samples from the quantum circuits that Step 2. prepared. Finally, under Step 4. we convert the samples from Step 3. into the solution of our combinatorial optimization problem. "
   ]
  },
  {
   "cell_type": "markdown",
   "id": "a06e4386-d7bd-4914-9baa-36a5cc60e3ab",
   "metadata": {},
   "source": [
    "## 1. Map the classical inputs to a quantum problem\n",
    "\n",
    "We are interested in solving a classical combinatorial optimization problem which has the form\n",
    "\n",
    "\\begin{align}\n",
    "\\max_{x\\in \\{0, 1\\}^n}f(x)\n",
    "\\end{align}\n",
    "\n",
    "Here, the vector $x$ are the $n$ decision variables. As you can see, there is nothing relating to quantum computing here yet. We therefore need to reformulate this problem into something that a quantum computer can understand. To be more concrete, we will consider a Quadratic Unconstrained Binary Optimization problem with the form\n",
    "\n",
    "\\begin{align}\n",
    "\\max_{x\\in \\{0, 1\\}^n}x^T Q x,\n",
    "\\end{align}\n",
    "where $Q$ is a $n\\times n$ matrix of real numbers. To start, we will convert the binary variables $x_i$ to variables $z_i\\in\\{-1, 1\\}$ by doing\n",
    "\\begin{align}\n",
    "x_i = \\frac{z_i+1}{2}.\n",
    "\\end{align}\n",
    "Here, for example, we see that if $x_i$ is $0$ then $z_i$ is $-1$. Now, to obtain a quantum formulation of the problem we promot the $z_i$ variables to a Pauli $Z$ matrix, i.e., a $2\\times 2$ matrix of the form\n",
    "\\begin{align}\n",
    "Z_i = \\begin{pmatrix}1 & 0 \\\\ 0 & -1\\end{pmatrix}.\n",
    "\\end{align}\n",
    "When we substitute these matrices in the QUBO above we obtain\n",
    "\n",
    "**TODO** Load a file with the LP and convert to an Ising Hamiltonian to feed into step 2."
   ]
  },
  {
   "cell_type": "markdown",
   "id": "983f5364-c093-4c98-a314-5421c19ecb30",
   "metadata": {},
   "source": [
    "## 2. Optimize problem for quantum execution\n",
    "\n",
    "**TODO** Take the Ising Hamiltonian from Step 1. and make circuits."
   ]
  },
  {
   "cell_type": "markdown",
   "id": "af6e4202-b3b7-4878-8e94-5b2a6de4db93",
   "metadata": {},
   "source": [
    "## 3. Execute using Qiskit Runtime primitives\n",
    "\n",
    "**TODO** Call the sampler on the circuits form Step 2."
   ]
  },
  {
   "cell_type": "markdown",
   "id": "9cf181fc-2063-4bc2-9c1f-d71eae56da57",
   "metadata": {},
   "source": [
    "## 4. Post-process, return result in classical format\n",
    "\n",
    "**TODO** Plot the distribution of results."
   ]
  },
  {
   "cell_type": "markdown",
   "id": "8a021583-5b8d-4bcd-bea5-d97c8b545f75",
   "metadata": {},
   "source": [
    "## Discussion and conclusion"
   ]
  },
  {
   "cell_type": "code",
   "execution_count": null,
   "id": "8beeffba-7000-48a4-93bf-1e6d5ef8d6d1",
   "metadata": {},
   "outputs": [],
   "source": []
  }
 ],
 "metadata": {
  "kernelspec": {
   "display_name": "Python 3 (ipykernel)",
   "language": "python",
   "name": "python3"
  },
  "language_info": {
   "codemirror_mode": {
    "name": "ipython",
    "version": 3
   },
   "file_extension": ".py",
   "mimetype": "text/x-python",
   "name": "python",
   "nbconvert_exporter": "python",
   "pygments_lexer": "ipython3",
   "version": "3.11.5"
  }
 },
 "nbformat": 4,
 "nbformat_minor": 5
}
